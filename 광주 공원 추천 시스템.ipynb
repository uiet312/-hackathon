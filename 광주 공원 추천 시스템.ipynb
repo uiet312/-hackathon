{
 "cells": [
  {
   "cell_type": "markdown",
   "id": "569d6b17",
   "metadata": {},
   "source": [
    "# 광주 공원 추천 시스템"
   ]
  },
  {
   "cell_type": "code",
   "execution_count": 1,
   "id": "90eb52ba",
   "metadata": {},
   "outputs": [],
   "source": [
    "import pandas as pd\n",
    "import numpy as np\n",
    "import warnings; warnings.filterwarnings('ignore')"
   ]
  },
  {
   "cell_type": "code",
   "execution_count": 2,
   "id": "514f70ef",
   "metadata": {},
   "outputs": [
    {
     "name": "stdout",
     "output_type": "stream",
     "text": [
      "<class 'pandas.core.frame.DataFrame'>\n",
      "RangeIndex: 26 entries, 0 to 25\n",
      "Data columns (total 7 columns):\n",
      " #   Column    Non-Null Count  Dtype  \n",
      "---  ------    --------------  -----  \n",
      " 0   공원명       26 non-null     object \n",
      " 1   키워드       20 non-null     object \n",
      " 2   키워드 (영문)  26 non-null     object \n",
      " 3   평점        26 non-null     float64\n",
      " 4   평점투표수     26 non-null     int64  \n",
      " 5   내부시설      21 non-null     object \n",
      " 6   비고        1 non-null      object \n",
      "dtypes: float64(1), int64(1), object(5)\n",
      "memory usage: 1.5+ KB\n"
     ]
    }
   ],
   "source": [
    "# 데이터 불러오기\n",
    "\n",
    "data = pd.read_csv('data/park_list1.csv')\n",
    "data.info()"
   ]
  },
  {
   "cell_type": "code",
   "execution_count": 3,
   "id": "b366b9b1",
   "metadata": {},
   "outputs": [
    {
     "name": "stdout",
     "output_type": "stream",
     "text": [
      "산책, 운동, 도심, 걷기, 가족, 문화, 데이트, 벚꽃\n",
      "키워드를 선택하세요(중복 선택 가능, 영어로 입력) strolling, workout\n"
     ]
    }
   ],
   "source": [
    "# 키워드를 입력 받기\n",
    "# 입력 예시 : strolling, workout\n",
    "\n",
    "print('산책, 운동, 도심, 걷기, 가족, 문화, 데이트, 벚꽃')\n",
    "keyword = (input('키워드를 선택하세요(중복 선택 가능, 영어로 입력) '))"
   ]
  },
  {
   "cell_type": "code",
   "execution_count": 4,
   "id": "51b904cd",
   "metadata": {},
   "outputs": [
    {
     "name": "stdout",
     "output_type": "stream",
     "text": [
      "30분 이내, 1시간 이내, 2시간 이내, 3시간 이내\n",
      "머무를 시간을 선택하세요30분 이내\n"
     ]
    }
   ],
   "source": [
    "# 머무를 시간을 입력 받기\n",
    "# 입력 예시 : 30분 이내\n",
    "\n",
    "print('30분 이내, 1시간 이내, 2시간 이내, 3시간 이내')\n",
    "time = (input('머무를 시간을 선택하세요'))"
   ]
  },
  {
   "cell_type": "code",
   "execution_count": 5,
   "id": "f3e4c66f",
   "metadata": {},
   "outputs": [],
   "source": [
    "# 데이터 전처리\n",
    "\n",
    "keyword = keyword.replace(',', '')\n",
    "keyword = keyword.split()\n",
    "\n",
    "data['키워드 (영문)'] = data['키워드 (영문)'].str.replace(',', '')"
   ]
  },
  {
   "cell_type": "code",
   "execution_count": 6,
   "id": "81b03027",
   "metadata": {},
   "outputs": [
    {
     "name": "stdout",
     "output_type": "stream",
     "text": [
      "키워드와 관련 있는 공원 :  5.18기념\n"
     ]
    }
   ],
   "source": [
    "# 입력받은 키워드를 많이 포함하고 있는 키워드를 가진 공원 추출\n",
    "\n",
    "data['중복'] = ''\n",
    "\n",
    "for i in range(len(data)):\n",
    "    data['중복'][i] = list(set(keyword).intersection(list(map(str, data['키워드 (영문)'][i].split()))))\n",
    "    \n",
    "data['카운트'] = 0\n",
    "\n",
    "for i in range(len(data)):\n",
    "    data['카운트'][i] = len(data['중복'][i])\n",
    "    \n",
    "print(\"키워드와 관련 있는 공원 : \", data.sort_values('카운트', ascending=False).iloc[0,0])"
   ]
  },
  {
   "cell_type": "code",
   "execution_count": 7,
   "id": "ad172c73",
   "metadata": {},
   "outputs": [],
   "source": [
    "# CountVectorizer를 이용해 피처 벡터 행렬로 변환\n",
    "from sklearn.feature_extraction.text import CountVectorizer\n",
    "\n",
    "vect = CountVectorizer(min_df=0, ngram_range=(1, 2))\n",
    "keyword_mat = vect.fit_transform(data['키워드 (영문)'])"
   ]
  },
  {
   "cell_type": "code",
   "execution_count": 8,
   "id": "810b99d3",
   "metadata": {},
   "outputs": [],
   "source": [
    "# 코사인 유사도 계산계산\n",
    "from sklearn.metrics.pairwise import cosine_similarity\n",
    "\n",
    "keyword_sim = cosine_similarity(keyword_mat, keyword_mat)"
   ]
  },
  {
   "cell_type": "code",
   "execution_count": 9,
   "id": "504dc9ee",
   "metadata": {},
   "outputs": [],
   "source": [
    "# 유사도가 높은 순으로 정리된 genre_sim 객체의 비교 행 위치 인덱스 값\n",
    "keyword_sim_sorted_ind = keyword_sim.argsort()[:, ::-1]"
   ]
  },
  {
   "cell_type": "code",
   "execution_count": 10,
   "id": "700e755c",
   "metadata": {},
   "outputs": [],
   "source": [
    "# 키워드 유사도에 따라 공원을 추천하고 평점 순으로 나열\n",
    "\n",
    "def park_recommend(data, sorted_ind, title_name, top_n=10):\n",
    "    title_park = data[data['공원명'] == title_name]\n",
    "    title_index = title_park.index.values\n",
    "    sim_indexs = sorted_ind[title_index, :top_n]\n",
    "    \n",
    "    sim_indexs = sim_indexs.reshape(-1)\n",
    "    \n",
    "    return data.iloc[sim_indexs]"
   ]
  },
  {
   "cell_type": "code",
   "execution_count": 11,
   "id": "31169a97",
   "metadata": {},
   "outputs": [],
   "source": [
    "# 공원 면적 데이터 불러오기\n",
    "\n",
    "info = pd.read_csv('data/park_info.csv', encoding='cp949')\n",
    "info = info[['공원명','공원면적']]\n",
    "info.head()\n",
    "\n",
    "data = pd.merge(data, info, how='left')"
   ]
  },
  {
   "cell_type": "code",
   "execution_count": 12,
   "id": "e8daad34",
   "metadata": {},
   "outputs": [],
   "source": [
    "if time == '30분 이내':\n",
    "    time = 0.5\n",
    "elif time == '1시간 이내':\n",
    "    time = 1\n",
    "elif time == '2시간 이내':\n",
    "    time = 2\n",
    "elif time == '3시간 이내':\n",
    "    time = 3"
   ]
  },
  {
   "cell_type": "code",
   "execution_count": 13,
   "id": "47b43cf8",
   "metadata": {},
   "outputs": [],
   "source": [
    "data['공원둘레'] = (np.sqrt(data['공원면적']) * 4)"
   ]
  },
  {
   "cell_type": "code",
   "execution_count": 14,
   "id": "28314250",
   "metadata": {},
   "outputs": [],
   "source": [
    "# 공원 걷는 속도를 2km/h 라고 가정\n",
    "\n",
    "walk = time * 2 * 1000\n",
    "\n",
    "data['walk'] = data['공원둘레'] > walk"
   ]
  },
  {
   "cell_type": "markdown",
   "id": "366861ec",
   "metadata": {},
   "source": [
    "# 실행 결과"
   ]
  },
  {
   "cell_type": "code",
   "execution_count": 15,
   "id": "4834c128",
   "metadata": {},
   "outputs": [
    {
     "name": "stdout",
     "output_type": "stream",
     "text": [
      "추천 1순위 :  유안\n",
      "추천 2순위 :  우산\n",
      "추천 3순위 :  쌍학\n"
     ]
    }
   ],
   "source": [
    "# 머무를 시간이 부족한 공원은 추천 목록에서 제외\n",
    "\n",
    "df = park_recommend(data, keyword_sim_sorted_ind, data.sort_values('카운트', ascending=False).iloc[0,0])\n",
    "df = df[df['walk'] == False]\n",
    "df = df.iloc[1:,:]\n",
    "\n",
    "print(\"추천 1순위 : \", df.iloc[0,0])\n",
    "print(\"추천 2순위 : \", df.iloc[1,0])\n",
    "print(\"추천 3순위 : \", df.iloc[2,0])"
   ]
  }
 ],
 "metadata": {
  "kernelspec": {
   "display_name": "Python 3",
   "language": "python",
   "name": "python3"
  },
  "language_info": {
   "codemirror_mode": {
    "name": "ipython",
    "version": 3
   },
   "file_extension": ".py",
   "mimetype": "text/x-python",
   "name": "python",
   "nbconvert_exporter": "python",
   "pygments_lexer": "ipython3",
   "version": "3.8.8"
  }
 },
 "nbformat": 4,
 "nbformat_minor": 5
}
